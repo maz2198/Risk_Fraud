{
 "cells": [
  {
   "cell_type": "markdown",
   "metadata": {},
   "source": [
    "# Risk and Fraud"
   ]
  },
  {
   "cell_type": "code",
   "execution_count": 136,
   "metadata": {},
   "outputs": [
    {
     "data": {
      "text/html": [
       "<style>.container { width:95% !important; }</style>"
      ],
      "text/plain": [
       "<IPython.core.display.HTML object>"
      ]
     },
     "metadata": {},
     "output_type": "display_data"
    }
   ],
   "source": [
    "from IPython.core.display import display, HTML\n",
    "display(HTML(\"<style>.container { width:95% !important; }</style>\"))"
   ]
  },
  {
   "cell_type": "markdown",
   "metadata": {},
   "source": [
    "\n",
    "\n",
    "<img src=\"profile_manoelgadi.png\" width=100 height=100 align=\"right\">\n",
    "\n",
    "Author: Prof. Manoel Gadi\n",
    "\n",
    "Contact: mfalonso@faculty.ie.edu\n",
    "\n",
    "To compete in this challenge, please create an user at my teaching website: http://mfalonso.pythonanywhere.com\n",
    "\n",
    "Last revision: 09/March/2020"
   ]
  },
  {
   "cell_type": "markdown",
   "metadata": {},
   "source": [
    "Please right your __full__ name below"
   ]
  },
  {
   "cell_type": "markdown",
   "metadata": {},
   "source": [
    "**Marang Mutloatse**"
   ]
  },
  {
   "cell_type": "markdown",
   "metadata": {},
   "source": [
    "---"
   ]
  },
  {
   "cell_type": "markdown",
   "metadata": {},
   "source": [
    "# Fraud detection game starting code...\n",
    "\n",
    "\n",
    "## Importing libraries and datasets"
   ]
  },
  {
   "cell_type": "code",
   "execution_count": 137,
   "metadata": {},
   "outputs": [],
   "source": [
    "import pandas as pd"
   ]
  },
  {
   "cell_type": "markdown",
   "metadata": {},
   "source": [
    "### Development sample"
   ]
  },
  {
   "cell_type": "code",
   "execution_count": 138,
   "metadata": {},
   "outputs": [
    {
     "name": "stdout",
     "output_type": "stream",
     "text": [
      "LOADING DATASETS...\n"
     ]
    }
   ],
   "source": [
    "print (\"LOADING DATASETS...\")\n",
    "df = pd.read_csv(\"dev.csv\") "
   ]
  },
  {
   "cell_type": "code",
   "execution_count": 4,
   "metadata": {},
   "outputs": [
    {
     "data": {
      "text/html": [
       "<div>\n",
       "<style scoped>\n",
       "    .dataframe tbody tr th:only-of-type {\n",
       "        vertical-align: middle;\n",
       "    }\n",
       "\n",
       "    .dataframe tbody tr th {\n",
       "        vertical-align: top;\n",
       "    }\n",
       "\n",
       "    .dataframe thead th {\n",
       "        text-align: right;\n",
       "    }\n",
       "</style>\n",
       "<table border=\"1\" class=\"dataframe\">\n",
       "  <thead>\n",
       "    <tr style=\"text-align: right;\">\n",
       "      <th></th>\n",
       "      <th>id</th>\n",
       "      <th>ib_var_1</th>\n",
       "      <th>ib_var_2</th>\n",
       "      <th>ib_var_3</th>\n",
       "      <th>ib_var_4</th>\n",
       "      <th>ib_var_5</th>\n",
       "      <th>ib_var_6</th>\n",
       "      <th>ib_var_7</th>\n",
       "      <th>ib_var_8</th>\n",
       "      <th>ib_var_9</th>\n",
       "      <th>...</th>\n",
       "      <th>if_var_73</th>\n",
       "      <th>if_var_74</th>\n",
       "      <th>if_var_75</th>\n",
       "      <th>if_var_76</th>\n",
       "      <th>if_var_77</th>\n",
       "      <th>if_var_78</th>\n",
       "      <th>if_var_79</th>\n",
       "      <th>if_var_80</th>\n",
       "      <th>if_var_81</th>\n",
       "      <th>ob_target</th>\n",
       "    </tr>\n",
       "  </thead>\n",
       "  <tbody>\n",
       "    <tr>\n",
       "      <th>0</th>\n",
       "      <td>1</td>\n",
       "      <td>0</td>\n",
       "      <td>1</td>\n",
       "      <td>0</td>\n",
       "      <td>0</td>\n",
       "      <td>1</td>\n",
       "      <td>1</td>\n",
       "      <td>0</td>\n",
       "      <td>0</td>\n",
       "      <td>0</td>\n",
       "      <td>...</td>\n",
       "      <td>0.800</td>\n",
       "      <td>0</td>\n",
       "      <td>6</td>\n",
       "      <td>5</td>\n",
       "      <td>0.500000</td>\n",
       "      <td>9.4634</td>\n",
       "      <td>5140.0</td>\n",
       "      <td>0.766667</td>\n",
       "      <td>1</td>\n",
       "      <td>0</td>\n",
       "    </tr>\n",
       "    <tr>\n",
       "      <th>1</th>\n",
       "      <td>2</td>\n",
       "      <td>0</td>\n",
       "      <td>1</td>\n",
       "      <td>0</td>\n",
       "      <td>0</td>\n",
       "      <td>0</td>\n",
       "      <td>1</td>\n",
       "      <td>0</td>\n",
       "      <td>0</td>\n",
       "      <td>0</td>\n",
       "      <td>...</td>\n",
       "      <td>0.925</td>\n",
       "      <td>5</td>\n",
       "      <td>8</td>\n",
       "      <td>5</td>\n",
       "      <td>0.400000</td>\n",
       "      <td>7.6341</td>\n",
       "      <td>2570.0</td>\n",
       "      <td>0.700000</td>\n",
       "      <td>4</td>\n",
       "      <td>0</td>\n",
       "    </tr>\n",
       "    <tr>\n",
       "      <th>2</th>\n",
       "      <td>3</td>\n",
       "      <td>0</td>\n",
       "      <td>0</td>\n",
       "      <td>0</td>\n",
       "      <td>0</td>\n",
       "      <td>1</td>\n",
       "      <td>1</td>\n",
       "      <td>0</td>\n",
       "      <td>0</td>\n",
       "      <td>0</td>\n",
       "      <td>...</td>\n",
       "      <td>0.800</td>\n",
       "      <td>3</td>\n",
       "      <td>10</td>\n",
       "      <td>6</td>\n",
       "      <td>0.700000</td>\n",
       "      <td>11.1707</td>\n",
       "      <td>5140.0</td>\n",
       "      <td>0.666667</td>\n",
       "      <td>2</td>\n",
       "      <td>0</td>\n",
       "    </tr>\n",
       "    <tr>\n",
       "      <th>3</th>\n",
       "      <td>4</td>\n",
       "      <td>0</td>\n",
       "      <td>1</td>\n",
       "      <td>0</td>\n",
       "      <td>1</td>\n",
       "      <td>1</td>\n",
       "      <td>1</td>\n",
       "      <td>0</td>\n",
       "      <td>0</td>\n",
       "      <td>0</td>\n",
       "      <td>...</td>\n",
       "      <td>0.825</td>\n",
       "      <td>5</td>\n",
       "      <td>5</td>\n",
       "      <td>6</td>\n",
       "      <td>0.433333</td>\n",
       "      <td>8.0488</td>\n",
       "      <td>1028.0</td>\n",
       "      <td>0.766667</td>\n",
       "      <td>3</td>\n",
       "      <td>0</td>\n",
       "    </tr>\n",
       "    <tr>\n",
       "      <th>4</th>\n",
       "      <td>5</td>\n",
       "      <td>0</td>\n",
       "      <td>0</td>\n",
       "      <td>0</td>\n",
       "      <td>0</td>\n",
       "      <td>0</td>\n",
       "      <td>1</td>\n",
       "      <td>0</td>\n",
       "      <td>0</td>\n",
       "      <td>0</td>\n",
       "      <td>...</td>\n",
       "      <td>0.800</td>\n",
       "      <td>0</td>\n",
       "      <td>11</td>\n",
       "      <td>5</td>\n",
       "      <td>0.700000</td>\n",
       "      <td>5.5854</td>\n",
       "      <td>5140.0</td>\n",
       "      <td>0.733333</td>\n",
       "      <td>3</td>\n",
       "      <td>0</td>\n",
       "    </tr>\n",
       "  </tbody>\n",
       "</table>\n",
       "<p>5 rows × 83 columns</p>\n",
       "</div>"
      ],
      "text/plain": [
       "   id  ib_var_1  ib_var_2  ib_var_3  ib_var_4  ib_var_5  ib_var_6  ib_var_7  \\\n",
       "0   1         0         1         0         0         1         1         0   \n",
       "1   2         0         1         0         0         0         1         0   \n",
       "2   3         0         0         0         0         1         1         0   \n",
       "3   4         0         1         0         1         1         1         0   \n",
       "4   5         0         0         0         0         0         1         0   \n",
       "\n",
       "   ib_var_8  ib_var_9  ...  if_var_73  if_var_74  if_var_75  if_var_76  \\\n",
       "0         0         0  ...      0.800          0          6          5   \n",
       "1         0         0  ...      0.925          5          8          5   \n",
       "2         0         0  ...      0.800          3         10          6   \n",
       "3         0         0  ...      0.825          5          5          6   \n",
       "4         0         0  ...      0.800          0         11          5   \n",
       "\n",
       "   if_var_77  if_var_78  if_var_79  if_var_80  if_var_81  ob_target  \n",
       "0   0.500000     9.4634     5140.0   0.766667          1          0  \n",
       "1   0.400000     7.6341     2570.0   0.700000          4          0  \n",
       "2   0.700000    11.1707     5140.0   0.666667          2          0  \n",
       "3   0.433333     8.0488     1028.0   0.766667          3          0  \n",
       "4   0.700000     5.5854     5140.0   0.733333          3          0  \n",
       "\n",
       "[5 rows x 83 columns]"
      ]
     },
     "execution_count": 4,
     "metadata": {},
     "output_type": "execute_result"
    }
   ],
   "source": [
    "df.head()"
   ]
  },
  {
   "cell_type": "markdown",
   "metadata": {},
   "source": [
    "### Out-of-time sample"
   ]
  },
  {
   "cell_type": "code",
   "execution_count": 139,
   "metadata": {},
   "outputs": [],
   "source": [
    "dfo = pd.read_csv(\"oot0.csv\")"
   ]
  },
  {
   "cell_type": "code",
   "execution_count": 6,
   "metadata": {},
   "outputs": [
    {
     "data": {
      "text/plain": [
       "id             int64\n",
       "ib_var_1       int64\n",
       "ib_var_2       int64\n",
       "ib_var_3       int64\n",
       "ib_var_4       int64\n",
       "              ...   \n",
       "if_var_77    float64\n",
       "if_var_78    float64\n",
       "if_var_79    float64\n",
       "if_var_80    float64\n",
       "if_var_81      int64\n",
       "Length: 82, dtype: object"
      ]
     },
     "execution_count": 6,
     "metadata": {},
     "output_type": "execute_result"
    }
   ],
   "source": [
    "dfo.dtypes"
   ]
  },
  {
   "cell_type": "code",
   "execution_count": 140,
   "metadata": {},
   "outputs": [
    {
     "data": {
      "text/html": [
       "<div>\n",
       "<style scoped>\n",
       "    .dataframe tbody tr th:only-of-type {\n",
       "        vertical-align: middle;\n",
       "    }\n",
       "\n",
       "    .dataframe tbody tr th {\n",
       "        vertical-align: top;\n",
       "    }\n",
       "\n",
       "    .dataframe thead th {\n",
       "        text-align: right;\n",
       "    }\n",
       "</style>\n",
       "<table border=\"1\" class=\"dataframe\">\n",
       "  <thead>\n",
       "    <tr style=\"text-align: right;\">\n",
       "      <th></th>\n",
       "      <th>id</th>\n",
       "      <th>ib_var_1</th>\n",
       "      <th>ib_var_2</th>\n",
       "      <th>ib_var_3</th>\n",
       "      <th>ib_var_4</th>\n",
       "      <th>ib_var_5</th>\n",
       "      <th>ib_var_6</th>\n",
       "      <th>ib_var_7</th>\n",
       "      <th>ib_var_8</th>\n",
       "      <th>ib_var_9</th>\n",
       "      <th>...</th>\n",
       "      <th>if_var_72</th>\n",
       "      <th>if_var_73</th>\n",
       "      <th>if_var_74</th>\n",
       "      <th>if_var_75</th>\n",
       "      <th>if_var_76</th>\n",
       "      <th>if_var_77</th>\n",
       "      <th>if_var_78</th>\n",
       "      <th>if_var_79</th>\n",
       "      <th>if_var_80</th>\n",
       "      <th>if_var_81</th>\n",
       "    </tr>\n",
       "  </thead>\n",
       "  <tbody>\n",
       "    <tr>\n",
       "      <th>0</th>\n",
       "      <td>1</td>\n",
       "      <td>0</td>\n",
       "      <td>1</td>\n",
       "      <td>0</td>\n",
       "      <td>0</td>\n",
       "      <td>1</td>\n",
       "      <td>0</td>\n",
       "      <td>0</td>\n",
       "      <td>0</td>\n",
       "      <td>0</td>\n",
       "      <td>...</td>\n",
       "      <td>5</td>\n",
       "      <td>0.775</td>\n",
       "      <td>1.0</td>\n",
       "      <td>10.0</td>\n",
       "      <td>11.0</td>\n",
       "      <td>0.666667</td>\n",
       "      <td>NaN</td>\n",
       "      <td>5140.000000</td>\n",
       "      <td>0.666667</td>\n",
       "      <td>3</td>\n",
       "    </tr>\n",
       "    <tr>\n",
       "      <th>1</th>\n",
       "      <td>2</td>\n",
       "      <td>1</td>\n",
       "      <td>0</td>\n",
       "      <td>0</td>\n",
       "      <td>0</td>\n",
       "      <td>1</td>\n",
       "      <td>1</td>\n",
       "      <td>0</td>\n",
       "      <td>0</td>\n",
       "      <td>0</td>\n",
       "      <td>...</td>\n",
       "      <td>6</td>\n",
       "      <td>0.750</td>\n",
       "      <td>0.0</td>\n",
       "      <td>8.0</td>\n",
       "      <td>10.0</td>\n",
       "      <td>0.600000</td>\n",
       "      <td>12.9024</td>\n",
       "      <td>5140.000000</td>\n",
       "      <td>0.733333</td>\n",
       "      <td>0</td>\n",
       "    </tr>\n",
       "    <tr>\n",
       "      <th>2</th>\n",
       "      <td>3</td>\n",
       "      <td>0</td>\n",
       "      <td>0</td>\n",
       "      <td>0</td>\n",
       "      <td>0</td>\n",
       "      <td>1</td>\n",
       "      <td>1</td>\n",
       "      <td>0</td>\n",
       "      <td>0</td>\n",
       "      <td>0</td>\n",
       "      <td>...</td>\n",
       "      <td>7</td>\n",
       "      <td>0.725</td>\n",
       "      <td>0.0</td>\n",
       "      <td>8.0</td>\n",
       "      <td>6.0</td>\n",
       "      <td>0.700000</td>\n",
       "      <td>NaN</td>\n",
       "      <td>2570.000000</td>\n",
       "      <td>0.766667</td>\n",
       "      <td>1</td>\n",
       "    </tr>\n",
       "    <tr>\n",
       "      <th>3</th>\n",
       "      <td>4</td>\n",
       "      <td>0</td>\n",
       "      <td>1</td>\n",
       "      <td>0</td>\n",
       "      <td>1</td>\n",
       "      <td>1</td>\n",
       "      <td>1</td>\n",
       "      <td>0</td>\n",
       "      <td>0</td>\n",
       "      <td>0</td>\n",
       "      <td>...</td>\n",
       "      <td>4</td>\n",
       "      <td>0.925</td>\n",
       "      <td>2.0</td>\n",
       "      <td>7.0</td>\n",
       "      <td>5.0</td>\n",
       "      <td>0.566667</td>\n",
       "      <td>15.5366</td>\n",
       "      <td>2056.000000</td>\n",
       "      <td>0.833333</td>\n",
       "      <td>0</td>\n",
       "    </tr>\n",
       "    <tr>\n",
       "      <th>4</th>\n",
       "      <td>5</td>\n",
       "      <td>1</td>\n",
       "      <td>0</td>\n",
       "      <td>0</td>\n",
       "      <td>1</td>\n",
       "      <td>1</td>\n",
       "      <td>1</td>\n",
       "      <td>0</td>\n",
       "      <td>0</td>\n",
       "      <td>0</td>\n",
       "      <td>...</td>\n",
       "      <td>5</td>\n",
       "      <td>0.925</td>\n",
       "      <td>0.0</td>\n",
       "      <td>10.0</td>\n",
       "      <td>7.0</td>\n",
       "      <td>0.333333</td>\n",
       "      <td>17.8293</td>\n",
       "      <td>4728.799805</td>\n",
       "      <td>0.633333</td>\n",
       "      <td>2</td>\n",
       "    </tr>\n",
       "  </tbody>\n",
       "</table>\n",
       "<p>5 rows × 82 columns</p>\n",
       "</div>"
      ],
      "text/plain": [
       "   id  ib_var_1  ib_var_2  ib_var_3  ib_var_4  ib_var_5  ib_var_6  ib_var_7  \\\n",
       "0   1         0         1         0         0         1         0         0   \n",
       "1   2         1         0         0         0         1         1         0   \n",
       "2   3         0         0         0         0         1         1         0   \n",
       "3   4         0         1         0         1         1         1         0   \n",
       "4   5         1         0         0         1         1         1         0   \n",
       "\n",
       "   ib_var_8  ib_var_9  ...  if_var_72  if_var_73  if_var_74  if_var_75  \\\n",
       "0         0         0  ...          5      0.775        1.0       10.0   \n",
       "1         0         0  ...          6      0.750        0.0        8.0   \n",
       "2         0         0  ...          7      0.725        0.0        8.0   \n",
       "3         0         0  ...          4      0.925        2.0        7.0   \n",
       "4         0         0  ...          5      0.925        0.0       10.0   \n",
       "\n",
       "   if_var_76  if_var_77  if_var_78    if_var_79  if_var_80  if_var_81  \n",
       "0       11.0   0.666667        NaN  5140.000000   0.666667          3  \n",
       "1       10.0   0.600000    12.9024  5140.000000   0.733333          0  \n",
       "2        6.0   0.700000        NaN  2570.000000   0.766667          1  \n",
       "3        5.0   0.566667    15.5366  2056.000000   0.833333          0  \n",
       "4        7.0   0.333333    17.8293  4728.799805   0.633333          2  \n",
       "\n",
       "[5 rows x 82 columns]"
      ]
     },
     "execution_count": 140,
     "metadata": {},
     "output_type": "execute_result"
    }
   ],
   "source": [
    "dfo.head()"
   ]
  },
  {
   "cell_type": "markdown",
   "metadata": {},
   "source": [
    "### Setting Column name"
   ]
  },
  {
   "cell_type": "code",
   "execution_count": 141,
   "metadata": {},
   "outputs": [],
   "source": [
    "coldf = df.columns\n",
    "coldfo = dfo.columns\n",
    "inddf = df.index\n",
    "inddfo = dfo.index"
   ]
  },
  {
   "cell_type": "markdown",
   "metadata": {},
   "source": [
    "## Identifying the types of the variables:\n",
    "\n",
    "* id is a primary key auto incremental\n",
    "*  ib_var_1 is input binary - flag 0/1 variable\n",
    "*  ib_var_2 is input binary - flag 0/1 variable\n",
    "*  ib_var_3 is input binary - flag 0/1 variable\n",
    "*  ib_var_4 is input binary - flag 0/1 variable\n",
    "*  ib_var_5 is input binary - flag 0/1 variable\n",
    "*  ib_var_6 is input binary - flag 0/1 variable\n",
    "*  ib_var_7 is input binary - flag 0/1 variable\n",
    "*  ib_var_8 is input binary - flag 0/1 variable\n",
    "*  ib_var_9 is input binary - flag 0/1 variable\n",
    "*  ib_var_10 is input binary - flag 0/1 variable\n",
    "*  ib_var_11 is input binary - flag 0/1 variable\n",
    "*  ib_var_12 is input binary - flag 0/1 variable\n",
    "*  ib_var_13 is input binary - flag 0/1 variable\n",
    "*  ib_var_14 is input binary - flag 0/1 variable\n",
    "*  ib_var_15 is input binary - flag 0/1 variable\n",
    "*  ib_var_16 is input binary - flag 0/1 variable\n",
    "*  ib_var_17 is input binary - flag 0/1 variable\n",
    "*  ib_var_18 is input binary - flag 0/1 variable\n",
    "*  ib_var_19 is input binary - flag 0/1 variable\n",
    "*  ib_var_20 is input binary - flag 0/1 variable\n",
    "*  ib_var_21 is input binary - flag 0/1 variable\n",
    "*  icn_var_22 is input categorical nominal\n",
    "*  icn_var_23 is input categorical nominal\n",
    "*  icn_var_24 is input categorical nominal\n",
    "*  ico_var_25 is input categorical ordinal\n",
    "*  ico_var_26 is input categorical ordinal\n",
    "*  ico_var_27 is input categorical ordinal\n",
    "*  ico_var_28 is input categorical ordinal\n",
    "*  ico_var_29 is input categorical ordinal\n",
    "*  ico_var_30 is input categorical ordinal\n",
    "*  ico_var_31 is input categorical ordinal\n",
    "*  ico_var_32 is input categorical ordinal\n",
    "*  ico_var_33 is input categorical ordinal\n",
    "*  ico_var_34 is input categorical ordinal\n",
    "*  ico_var_35 is input categorical ordinal\n",
    "*  ico_var_36 is input categorical ordinal\n",
    "*  ico_var_37 is input categorical ordinal\n",
    "*  ico_var_38 is input categorical ordinal\n",
    "*  ico_var_39 is input categorical ordinal\n",
    "*  ico_var_40 is input categorical ordinal\n",
    "*  ico_var_41 is input categorical ordinal\n",
    "*  ico_var_42 is input categorical ordinal\n",
    "*  ico_var_43 is input categorical ordinal\n",
    "*  ico_var_44 is input categorical ordinal\n",
    "*  ico_var_45 is input categorical ordinal\n",
    "*  ico_var_46 is input categorical ordinal\n",
    "*  ico_var_47 is input categorical ordinal\n",
    "*  ico_var_48 is input categorical ordinal\n",
    "*  ico_var_49 is input categorical ordinal\n",
    "*  ico_var_50 is input categorical ordinal\n",
    "*  ico_var_51 is input categorical ordinal\n",
    "*  ico_var_52 is input categorical ordinal\n",
    "*  ico_var_53 is input categorical ordinal\n",
    "*  ico_var_54 is input categorical ordinal\n",
    "*  ico_var_55 is input categorical ordinal\n",
    "*  ico_var_56 is input categorical ordinal\n",
    "*  ico_var_57 is input categorical ordinal\n",
    "*  ico_var_58 is input categorical ordinal\n",
    "*  ico_var_59 is input categorical ordinal\n",
    "*  ico_var_60 is input categorical ordinal\n",
    "*  ico_var_61 is input categorical ordinal\n",
    "*  ico_var_62 is input categorical ordinal\n",
    "*  ico_var_63 is input categorical ordinal\n",
    "*  ico_var_64 is input categorical ordinal\n",
    "*  if_var_65 is input numerical continuos (input float)\n",
    "*  if_var_66 is input numerical continuos (input float)\n",
    "*  if_var_67 is input numerical continuos (input float)\n",
    "*  if_var_68 is input numerical continuos (input float)\n",
    "*  if_var_69 is input numerical continuos (input float)\n",
    "*  if_var_70 is input numerical continuos (input float)\n",
    "*  if_var_71 is input numerical continuos (input float)\n",
    "*  if_var_72 is input numerical continuos (input float)\n",
    "*  if_var_73 is input numerical continuos (input float)\n",
    "*  if_var_74 is input numerical continuos (input float)\n",
    "*  if_var_75 is input numerical continuos (input float)\n",
    "*  if_var_76 is input numerical continuos (input float)\n",
    "*  if_var_77 is input numerical continuos (input float)\n",
    "*  if_var_78 is input numerical continuos (input float)\n",
    "*  if_var_79 is input numerical continuos (input float)\n",
    "*  if_var_80 is input numerical continuos (input float)\n",
    "*  if_var_81 is input numerical continuos (input float)\n",
    "*  ob_target is output binary (target variable: 1 meaning fraud case and 0 non-fraud case)"
   ]
  },
  {
   "cell_type": "markdown",
   "metadata": {},
   "source": [
    "## Dealing with Missing Values"
   ]
  },
  {
   "cell_type": "code",
   "execution_count": 142,
   "metadata": {},
   "outputs": [
    {
     "name": "stdout",
     "output_type": "stream",
     "text": [
      "STEP 1: DOING MY TRANSFORMATIONS...\n"
     ]
    }
   ],
   "source": [
    "print (\"STEP 1: DOING MY TRANSFORMATIONS...\")\n",
    "df = df.fillna(0)\n",
    "#dfo = dfo.fillna(0)\n",
    "\n",
    "import numpy as np \n",
    "  \n",
    "# Importing the SimpleImputer class \n",
    "from sklearn.impute import SimpleImputer,KNNImputer \n",
    "  \n",
    "#Imputer object using the mean strategy and  \n",
    "#missing_data type for imputation \n",
    "imputer = SimpleImputer(missing_values=np.NaN,strategy ='mean') \n",
    "#imputer = KNNImputer(n_neighbors=5, weights='uniform')\n",
    "\n",
    "\n",
    "  \n",
    "# Imputing the data      \n",
    "#df = pd.DataFrame(imputer.fit_transform(df)) \n",
    "dfo = pd.DataFrame(imputer.fit_transform(dfo))\n",
    "  \n",
    "# df.columns=coldf\n",
    "# df.index=inddf\n",
    "dfo.columns=coldfo\n",
    "dfo.index=inddfo"
   ]
  },
  {
   "cell_type": "code",
   "execution_count": 10,
   "metadata": {
    "scrolled": true
   },
   "outputs": [
    {
     "data": {
      "text/html": [
       "<div>\n",
       "<style scoped>\n",
       "    .dataframe tbody tr th:only-of-type {\n",
       "        vertical-align: middle;\n",
       "    }\n",
       "\n",
       "    .dataframe tbody tr th {\n",
       "        vertical-align: top;\n",
       "    }\n",
       "\n",
       "    .dataframe thead th {\n",
       "        text-align: right;\n",
       "    }\n",
       "</style>\n",
       "<table border=\"1\" class=\"dataframe\">\n",
       "  <thead>\n",
       "    <tr style=\"text-align: right;\">\n",
       "      <th></th>\n",
       "      <th>id</th>\n",
       "      <th>ib_var_1</th>\n",
       "      <th>ib_var_2</th>\n",
       "      <th>ib_var_3</th>\n",
       "      <th>ib_var_4</th>\n",
       "      <th>ib_var_5</th>\n",
       "      <th>ib_var_6</th>\n",
       "      <th>ib_var_7</th>\n",
       "      <th>ib_var_8</th>\n",
       "      <th>ib_var_9</th>\n",
       "      <th>...</th>\n",
       "      <th>if_var_73</th>\n",
       "      <th>if_var_74</th>\n",
       "      <th>if_var_75</th>\n",
       "      <th>if_var_76</th>\n",
       "      <th>if_var_77</th>\n",
       "      <th>if_var_78</th>\n",
       "      <th>if_var_79</th>\n",
       "      <th>if_var_80</th>\n",
       "      <th>if_var_81</th>\n",
       "      <th>ob_target</th>\n",
       "    </tr>\n",
       "  </thead>\n",
       "  <tbody>\n",
       "    <tr>\n",
       "      <th>0</th>\n",
       "      <td>1</td>\n",
       "      <td>0</td>\n",
       "      <td>1</td>\n",
       "      <td>0</td>\n",
       "      <td>0</td>\n",
       "      <td>1</td>\n",
       "      <td>1</td>\n",
       "      <td>0</td>\n",
       "      <td>0</td>\n",
       "      <td>0</td>\n",
       "      <td>...</td>\n",
       "      <td>0.800</td>\n",
       "      <td>0</td>\n",
       "      <td>6</td>\n",
       "      <td>5</td>\n",
       "      <td>0.500000</td>\n",
       "      <td>9.4634</td>\n",
       "      <td>5140.0</td>\n",
       "      <td>0.766667</td>\n",
       "      <td>1</td>\n",
       "      <td>0</td>\n",
       "    </tr>\n",
       "    <tr>\n",
       "      <th>1</th>\n",
       "      <td>2</td>\n",
       "      <td>0</td>\n",
       "      <td>1</td>\n",
       "      <td>0</td>\n",
       "      <td>0</td>\n",
       "      <td>0</td>\n",
       "      <td>1</td>\n",
       "      <td>0</td>\n",
       "      <td>0</td>\n",
       "      <td>0</td>\n",
       "      <td>...</td>\n",
       "      <td>0.925</td>\n",
       "      <td>5</td>\n",
       "      <td>8</td>\n",
       "      <td>5</td>\n",
       "      <td>0.400000</td>\n",
       "      <td>7.6341</td>\n",
       "      <td>2570.0</td>\n",
       "      <td>0.700000</td>\n",
       "      <td>4</td>\n",
       "      <td>0</td>\n",
       "    </tr>\n",
       "    <tr>\n",
       "      <th>2</th>\n",
       "      <td>3</td>\n",
       "      <td>0</td>\n",
       "      <td>0</td>\n",
       "      <td>0</td>\n",
       "      <td>0</td>\n",
       "      <td>1</td>\n",
       "      <td>1</td>\n",
       "      <td>0</td>\n",
       "      <td>0</td>\n",
       "      <td>0</td>\n",
       "      <td>...</td>\n",
       "      <td>0.800</td>\n",
       "      <td>3</td>\n",
       "      <td>10</td>\n",
       "      <td>6</td>\n",
       "      <td>0.700000</td>\n",
       "      <td>11.1707</td>\n",
       "      <td>5140.0</td>\n",
       "      <td>0.666667</td>\n",
       "      <td>2</td>\n",
       "      <td>0</td>\n",
       "    </tr>\n",
       "    <tr>\n",
       "      <th>3</th>\n",
       "      <td>4</td>\n",
       "      <td>0</td>\n",
       "      <td>1</td>\n",
       "      <td>0</td>\n",
       "      <td>1</td>\n",
       "      <td>1</td>\n",
       "      <td>1</td>\n",
       "      <td>0</td>\n",
       "      <td>0</td>\n",
       "      <td>0</td>\n",
       "      <td>...</td>\n",
       "      <td>0.825</td>\n",
       "      <td>5</td>\n",
       "      <td>5</td>\n",
       "      <td>6</td>\n",
       "      <td>0.433333</td>\n",
       "      <td>8.0488</td>\n",
       "      <td>1028.0</td>\n",
       "      <td>0.766667</td>\n",
       "      <td>3</td>\n",
       "      <td>0</td>\n",
       "    </tr>\n",
       "    <tr>\n",
       "      <th>4</th>\n",
       "      <td>5</td>\n",
       "      <td>0</td>\n",
       "      <td>0</td>\n",
       "      <td>0</td>\n",
       "      <td>0</td>\n",
       "      <td>0</td>\n",
       "      <td>1</td>\n",
       "      <td>0</td>\n",
       "      <td>0</td>\n",
       "      <td>0</td>\n",
       "      <td>...</td>\n",
       "      <td>0.800</td>\n",
       "      <td>0</td>\n",
       "      <td>11</td>\n",
       "      <td>5</td>\n",
       "      <td>0.700000</td>\n",
       "      <td>5.5854</td>\n",
       "      <td>5140.0</td>\n",
       "      <td>0.733333</td>\n",
       "      <td>3</td>\n",
       "      <td>0</td>\n",
       "    </tr>\n",
       "  </tbody>\n",
       "</table>\n",
       "<p>5 rows × 83 columns</p>\n",
       "</div>"
      ],
      "text/plain": [
       "   id  ib_var_1  ib_var_2  ib_var_3  ib_var_4  ib_var_5  ib_var_6  ib_var_7  \\\n",
       "0   1         0         1         0         0         1         1         0   \n",
       "1   2         0         1         0         0         0         1         0   \n",
       "2   3         0         0         0         0         1         1         0   \n",
       "3   4         0         1         0         1         1         1         0   \n",
       "4   5         0         0         0         0         0         1         0   \n",
       "\n",
       "   ib_var_8  ib_var_9  ...  if_var_73  if_var_74  if_var_75  if_var_76  \\\n",
       "0         0         0  ...      0.800          0          6          5   \n",
       "1         0         0  ...      0.925          5          8          5   \n",
       "2         0         0  ...      0.800          3         10          6   \n",
       "3         0         0  ...      0.825          5          5          6   \n",
       "4         0         0  ...      0.800          0         11          5   \n",
       "\n",
       "   if_var_77  if_var_78  if_var_79  if_var_80  if_var_81  ob_target  \n",
       "0   0.500000     9.4634     5140.0   0.766667          1          0  \n",
       "1   0.400000     7.6341     2570.0   0.700000          4          0  \n",
       "2   0.700000    11.1707     5140.0   0.666667          2          0  \n",
       "3   0.433333     8.0488     1028.0   0.766667          3          0  \n",
       "4   0.700000     5.5854     5140.0   0.733333          3          0  \n",
       "\n",
       "[5 rows x 83 columns]"
      ]
     },
     "execution_count": 10,
     "metadata": {},
     "output_type": "execute_result"
    }
   ],
   "source": [
    "df.head()"
   ]
  },
  {
   "cell_type": "markdown",
   "metadata": {},
   "source": [
    "## Scaling Data"
   ]
  },
  {
   "cell_type": "markdown",
   "metadata": {},
   "source": [
    "Standard Scaler was applied to numerical variables only."
   ]
  },
  {
   "cell_type": "code",
   "execution_count": 143,
   "metadata": {},
   "outputs": [],
   "source": [
    "from sklearn.preprocessing import StandardScaler\n",
    "mms = StandardScaler()\n",
    "df[['if_var_65','if_var_66','if_var_67','if_var_68','if_var_69','if_var_70','if_var_71','if_var_72','if_var_73','if_var_74','if_var_75','if_var_76','if_var_77','if_var_78','if_var_79','if_var_80','if_var_81']] = mms.fit_transform(df[['if_var_65','if_var_66','if_var_67','if_var_68','if_var_69','if_var_70','if_var_71','if_var_72','if_var_73','if_var_74','if_var_75','if_var_76','if_var_77','if_var_78','if_var_79','if_var_80','if_var_81']])\n",
    "dfo[['if_var_65','if_var_66','if_var_67','if_var_68','if_var_69','if_var_70','if_var_71','if_var_72','if_var_73','if_var_74','if_var_75','if_var_76','if_var_77','if_var_78','if_var_79','if_var_80','if_var_81']] = mms.fit_transform(dfo[['if_var_65','if_var_66','if_var_67','if_var_68','if_var_69','if_var_70','if_var_71','if_var_72','if_var_73','if_var_74','if_var_75','if_var_76','if_var_77','if_var_78','if_var_79','if_var_80','if_var_81']])"
   ]
  },
  {
   "cell_type": "markdown",
   "metadata": {},
   "source": [
    "## Feature Selection"
   ]
  },
  {
   "cell_type": "markdown",
   "metadata": {},
   "source": [
    "Features removed had PSI = 0. Moreover, using threshold of 0.002 for RandomForestClassifier's feature importance."
   ]
  },
  {
   "cell_type": "code",
   "execution_count": 144,
   "metadata": {},
   "outputs": [
    {
     "name": "stdout",
     "output_type": "stream",
     "text": [
      "STEP 2: SELECTING CHARACTERISTICS TO ENTER INTO THE MODEL...\n"
     ]
    }
   ],
   "source": [
    "print (\"STEP 2: SELECTING CHARACTERISTICS TO ENTER INTO THE MODEL...\")\n",
    "#in_model = list_inputs #['ib_var_1','icn_var_22','ico_var_25','if_var_65']\n",
    "in_model = ['icn_var_22','icn_var_24','if_var_65','ico_var_25','ico_var_26','ico_var_27','ico_var_28','ico_var_29','ico_var_30','ico_var_31','ico_var_32','ico_var_33','ico_var_34','ico_var_35','ico_var_36','ico_var_37','ico_var_38','ico_var_39','ico_var_40','ico_var_41','ico_var_42','ico_var_43','ico_var_44','ico_var_45','ico_var_46','ico_var_47','ico_var_48','ico_var_49','ico_var_50','ico_var_51','ico_var_52','ico_var_53','ico_var_54','ico_var_55','ico_var_56','ico_var_57','ico_var_58','ico_var_59','ico_var_60','ico_var_61','ico_var_62','ico_var_63','ico_var_64','ib_var_2','ib_var_5','ib_var_6','ib_var_14','ib_var_15','ib_var_16','ib_var_17','ib_var_19','ib_var_20','ib_var_21','if_var_66','if_var_67','if_var_68','if_var_69','if_var_70','if_var_71','if_var_72','if_var_73','if_var_74','if_var_75','if_var_76','if_var_77','if_var_78','if_var_79','if_var_80','if_var_81']\n",
    "output_var = 'ob_target'"
   ]
  },
  {
   "cell_type": "markdown",
   "metadata": {},
   "source": [
    "# Model Development"
   ]
  },
  {
   "cell_type": "markdown",
   "metadata": {},
   "source": [
    "Model developed is using a voting classifier using the Logistic Regression, Random Forest Classifier, Multi-layer Preceptron Classifier and a KNN classifier. For more explanation of the reasoning for this model, see the logbook/analysis pdf."
   ]
  },
  {
   "cell_type": "code",
   "execution_count": 145,
   "metadata": {},
   "outputs": [
    {
     "name": "stdout",
     "output_type": "stream",
     "text": [
      "STEP 3: DEVELOPING THE MODEL...\n"
     ]
    }
   ],
   "source": [
    "print (\"STEP 3: DEVELOPING THE MODEL...\")\n",
    "X = df[in_model]\n",
    "y = df[output_var]\n",
    "Xo = dfo[in_model]\n",
    "\n",
    "from sklearn.linear_model import LogisticRegression\n",
    "from sklearn.ensemble import VotingClassifier\n",
    "from sklearn.ensemble import RandomForestClassifier\n",
    "from sklearn.neural_network import MLPClassifier\n",
    "from sklearn.neighbors import KNeighborsClassifier\n",
    "\n",
    "\n",
    "clf = VotingClassifier(estimators=[('NB', RandomForestClassifier(random_state=0,n_estimators=102, min_samples_split=4,n_jobs=-1,max_depth=12,class_weight='balanced_subsample',max_features='log2')),('br',KNeighborsClassifier(n_neighbors=5,weights='uniform',n_jobs=-1)),\n",
    "                                   ('LR',LogisticRegression(random_state=0,C=12.0,solver='lbfgs',penalty='l2',class_weight=None)),('svm',(MLPClassifier(hidden_layer_sizes=(102,),random_state=0,solver='lbfgs',learning_rate='adaptive',activation='tanh')))], \n",
    "                       voting='soft',n_jobs=-1, weights=[19,1,1,1])\n",
    "#clf = RandomForestClassifier(random_state=0,n_estimators=102, min_samples_split=4,n_jobs=-1,max_depth=12,class_weight='balanced_subsample',max_features='log2')\n",
    "fitted_model = clf.fit(X, y)\n",
    "pred_dev = fitted_model.predict_proba(X)[:,1]\n",
    "pred_oot  = fitted_model.predict_proba(Xo)[:,1]"
   ]
  },
  {
   "cell_type": "code",
   "execution_count": 146,
   "metadata": {},
   "outputs": [
    {
     "name": "stdout",
     "output_type": "stream",
     "text": [
      "STEP 4: ASSESSING THE MODEL...\n",
      "GINI DEVELOPMENT= 1.0\n",
      "KS DEVELOPMENT= 0.9999999999999968\n"
     ]
    }
   ],
   "source": [
    "print (\"STEP 4: ASSESSING THE MODEL...\")\n",
    "# CALCULATING GINI PERFORMANCE ON DEVELOPMENT SAMPLE\n",
    "from sklearn.metrics import roc_auc_score\n",
    "gini_score = 2*roc_auc_score(y, pred_dev)-1\n",
    "print (\"GINI DEVELOPMENT=\", gini_score)\n",
    "\n",
    "def KS(b,a):  \n",
    "    \"\"\"Function that received two parameters; first: a binary variable representing 0=good and 1=bad, \n",
    "    and then a second variable with the prediction of the first variable, the second variable can be continuous, \n",
    "    integer or binary - continuous is better. Finally, the function returns the KS Statistics of the two lists.\"\"\"\n",
    "    try:\n",
    "        tot_bads=1.0*sum(b)\n",
    "        tot_goods=1.0*(len(b)-tot_bads)\n",
    "        elements = zip(*[a,b])\n",
    "        elements = sorted(elements,key= lambda x: x[0])\n",
    "        elements_df = pd.DataFrame({'probability': b,'gbi': a})\n",
    "        pivot_elements_df = pd.pivot_table(elements_df, values='probability', index=['gbi'], aggfunc=[sum,len]).fillna(0)\n",
    "        max_ks = perc_goods = perc_bads = cum_perc_bads = cum_perc_goods = 0\n",
    "        for i in range(len(pivot_elements_df)):\n",
    "            perc_goods =  (pivot_elements_df.iloc[i]['len'] - pivot_elements_df.iloc[i]['sum']) / tot_goods\n",
    "            perc_bads = pivot_elements_df.iloc[i]['sum']/ tot_bads\n",
    "            cum_perc_goods += perc_goods\n",
    "            cum_perc_bads += perc_bads\n",
    "            A = cum_perc_bads-cum_perc_goods\n",
    "            if abs(A['probability']) > max_ks:\n",
    "                max_ks = abs(A['probability'])\n",
    "    except:\n",
    "        max_ks = 0\n",
    "    return max_ks\n",
    "\n",
    "\n",
    "KS_score = KS(y,pred_dev)\n",
    "print (\"KS DEVELOPMENT=\", KS_score) \n"
   ]
  },
  {
   "cell_type": "markdown",
   "metadata": {},
   "source": [
    "What is GINI and KS?\n",
    "* watch this video for reference: https://youtu.be/MiBUBVUC8kE"
   ]
  },
  {
   "cell_type": "markdown",
   "metadata": {},
   "source": [
    "# Final Submission"
   ]
  },
  {
   "cell_type": "code",
   "execution_count": 147,
   "metadata": {},
   "outputs": [
    {
     "name": "stdout",
     "output_type": "stream",
     "text": [
      "STEP 5: SUBMITTING THE RESULTS...\n"
     ]
    }
   ],
   "source": [
    "print (\"STEP 5: SUBMITTING THE RESULTS...\")\n",
    "import requests\n",
    "from requests.auth import HTTPBasicAuth\n",
    "dfo['pred'] = pred_oot\n",
    "dfo_tosend = dfo[list(['id','pred'])]\n",
    "\n",
    "i=1\n",
    "filename = \"student_sub\"+str(i)+\".csv\"\n",
    "dfo_tosend.to_csv(filename, sep=',')\n",
    "\n",
    "url = 'http://mfalonso.pythonanywhere.com/api/v1.0/uploadpredictions'\n",
    "\n"
   ]
  },
  {
   "cell_type": "markdown",
   "metadata": {},
   "source": [
    "To compete in this challenge, please create an user at my teaching website: http://mfalonso.pythonanywhere.com\n",
    "and replace below where it says:\n",
    "* my_user_name_goes_here\n",
    "* my_password_goes_here"
   ]
  },
  {
   "cell_type": "code",
   "execution_count": 148,
   "metadata": {},
   "outputs": [
    {
     "name": "stdout",
     "output_type": "stream",
     "text": [
      "RESULT SUBMISSION:  KS2 = 0.421843085426; GINI = 0.507927522436; GRADE = 9.996\n"
     ]
    }
   ],
   "source": [
    "files = {'file': (filename, open(filename, 'rb'))}\n",
    "rsub = requests.post(url, files=files, auth=HTTPBasicAuth('Marang2198', '8Liverpool8'))\n",
    "\n",
    "resp_str = str(rsub.text)\n",
    "print (\"RESULT SUBMISSION: \", resp_str)"
   ]
  },
  {
   "cell_type": "markdown",
   "metadata": {},
   "source": [
    "**PSI**, **Feature Importance** and application of **grid search**, cross-validated functions are in appended notebooks in auxilary folder."
   ]
  },
  {
   "cell_type": "markdown",
   "metadata": {},
   "source": [
    "To be brutally honest, I would not deploy this model in production."
   ]
  },
  {
   "cell_type": "code",
   "execution_count": null,
   "metadata": {},
   "outputs": [],
   "source": []
  }
 ],
 "metadata": {
  "kernelspec": {
   "display_name": "Python 3",
   "language": "python",
   "name": "python3"
  },
  "language_info": {
   "codemirror_mode": {
    "name": "ipython",
    "version": 3
   },
   "file_extension": ".py",
   "mimetype": "text/x-python",
   "name": "python",
   "nbconvert_exporter": "python",
   "pygments_lexer": "ipython3",
   "version": "3.7.6"
  },
  "latex_envs": {
   "LaTeX_envs_menu_present": true,
   "autoclose": false,
   "autocomplete": true,
   "bibliofile": "biblio.bib",
   "cite_by": "apalike",
   "current_citInitial": 1,
   "eqLabelWithNumbers": true,
   "eqNumInitial": 1,
   "hotkeys": {
    "equation": "Ctrl-E",
    "itemize": "Ctrl-I"
   },
   "labels_anchors": false,
   "latex_user_defs": false,
   "report_style_numbering": false,
   "user_envs_cfg": false
  },
  "toc": {
   "base_numbering": 1,
   "nav_menu": {},
   "number_sections": true,
   "sideBar": true,
   "skip_h1_title": false,
   "title_cell": "Table of Contents",
   "title_sidebar": "Contents",
   "toc_cell": false,
   "toc_position": {},
   "toc_section_display": true,
   "toc_window_display": false
  }
 },
 "nbformat": 4,
 "nbformat_minor": 2
}
